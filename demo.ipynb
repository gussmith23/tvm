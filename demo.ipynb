{
 "cells": [
  {
   "cell_type": "code",
   "execution_count": null,
   "metadata": {},
   "outputs": [],
   "source": [
    "import tvm\n",
    "from tvm import relay\n",
    "import tvm.relay.analysis_tools"
   ]
  },
  {
   "cell_type": "markdown",
   "metadata": {},
   "source": [
    "We'll start by examining a simple Relay program:"
   ]
  },
  {
   "cell_type": "code",
   "execution_count": null,
   "metadata": {},
   "outputs": [],
   "source": [
    "program = relay.const(1) - (relay.var('x') * relay.var('y'))"
   ]
  },
  {
   "cell_type": "markdown",
   "metadata": {},
   "source": [
    "This simple analysis pass visits all `Call`s. It uses the `AnalysisPass` helper method `_add_detail` to attach analysis results to an expression. In this case, it attaches an analysis result named `'readable_name'` to the `Call` being visited. `_add_detail` is one of the main conveniences added by this simple analysis framework."
   ]
  },
  {
   "cell_type": "code",
   "execution_count": null,
   "metadata": {},
   "outputs": [],
   "source": [
    "class GetReadableName(relay.analysis_tools.AnalysisPass):\n",
    "    def visit_call(self, call):\n",
    "        super().visit_call(call)\n",
    "        self._add_detail(call, readable_name=call.op.name)"
   ]
  },
  {
   "cell_type": "markdown",
   "metadata": {},
   "source": [
    "We can build another simple `AnalysisPass` to give all of our nodes unique ids:"
   ]
  },
  {
   "cell_type": "code",
   "execution_count": null,
   "metadata": {},
   "outputs": [],
   "source": [
    "class GetIndex(relay.analysis_tools.AnalysisPass):\n",
    "    def __init__(self):\n",
    "        super().__init__()\n",
    "        self.__id = 0\n",
    "\n",
    "    def visit_call(self, call):\n",
    "        super().visit_call(call)\n",
    "        self._add_detail(call, id=self.__id)\n",
    "        self.__id += 1"
   ]
  },
  {
   "cell_type": "markdown",
   "metadata": {},
   "source": [
    "Next, we use the `run_analyses` helper method to run a batch of analyses on our program."
   ]
  },
  {
   "cell_type": "code",
   "execution_count": null,
   "metadata": {},
   "outputs": [],
   "source": [
    "analyses = [GetReadableName(), GetIndex()]\n",
    "analysis_results, summary_results = relay.analysis_tools.run_analyses(program, analyses)\n",
    "analysis_results"
   ]
  },
  {
   "cell_type": "markdown",
   "metadata": {},
   "source": [
    "As we can see, the analysis results are in a bit of a raw form. The rest of the interesting functions in the analysis framework mostly pertain to helping wrangle the output into a useful form.\n",
    "\n",
    "For example, we can get the columns from the output, and then once we have the columns, we can turn the data into record format:"
   ]
  },
  {
   "cell_type": "code",
   "execution_count": null,
   "metadata": {},
   "outputs": [],
   "source": [
    "analysis_columns = relay.analysis_tools.get_analysis_columns(analysis_results)\n",
    "analysis_columns"
   ]
  },
  {
   "cell_type": "code",
   "execution_count": null,
   "metadata": {},
   "outputs": [],
   "source": [
    "records = relay.analysis_tools.get_records(analysis_results, analysis_columns)\n",
    "records"
   ]
  },
  {
   "cell_type": "markdown",
   "metadata": {},
   "source": [
    "Record format helps us put the data into pandas:"
   ]
  },
  {
   "cell_type": "code",
   "execution_count": null,
   "metadata": {},
   "outputs": [],
   "source": [
    "import pandas as pd\n",
    "pd.DataFrame.from_records(records, columns=['id', 'op'], index='id')"
   ]
  },
  {
   "cell_type": "markdown",
   "metadata": {},
   "source": [
    "Now, let's see what it looks like with a bigger program, like Mobilenet:"
   ]
  },
  {
   "cell_type": "code",
   "execution_count": null,
   "metadata": {},
   "outputs": [],
   "source": [
    "from tvm.relay.testing.mobilenet import get_workload\n",
    "\n",
    "module, params = get_workload()\n",
    "\n",
    "analyses = [GetReadableName(), GetIndex()]\n",
    "analysis_results, summary_results = relay.analysis_tools.run_analyses(module['main'], analyses)\n",
    "records = relay.analysis_tools.get_records(analysis_results, analysis_columns)\n",
    "pd.DataFrame.from_records(records, columns=['id', 'op'], index='id')"
   ]
  },
  {
   "cell_type": "markdown",
   "metadata": {},
   "source": [
    "## Building Analysis Summaries\n",
    "\n",
    "The last feature of the analysis framework is the ability to build _summaries_, which are simply useful ways to add analysis results which are not tied to an expression within the program, but to the program as a whole.\n",
    "\n",
    "We can make a summary by overriding `_summarize`. This method runs once the `AnalysisPass` finishes visiting all expressions in a program. `_summarize` can access the `_existing_data` field to access previously-generated data. Using this data, it can then generate summary info and attach it to the program using `_add_summary`.\n",
    "\n",
    "Here, we show a summary pass which generates a histogram of call types:"
   ]
  },
  {
   "cell_type": "code",
   "execution_count": null,
   "metadata": {},
   "outputs": [],
   "source": [
    "class SummarizeOpTypes(relay.analysis_tools.AnalysisPass):\n",
    "    def _summarize(self):\n",
    "        histogram = {}\n",
    "        for node, data in self._existing_data.items():\n",
    "            if data['readable_name'] not in histogram:\n",
    "                histogram[data['readable_name']] = 1\n",
    "            else:\n",
    "                histogram[data['readable_name']] += 1\n",
    "        self._add_summary(histogram)"
   ]
  },
  {
   "cell_type": "markdown",
   "metadata": {},
   "source": [
    "We generate summaries with `run_analyses` as well: "
   ]
  },
  {
   "cell_type": "code",
   "execution_count": null,
   "metadata": {},
   "outputs": [],
   "source": [
    "analyses = [GetReadableName(), GetIndex(), SummarizeOpTypes()]\n",
    "analysis_results, summary_results = relay.analysis_tools.run_analyses(module['main'], analyses)\n",
    "summary_results"
   ]
  },
  {
   "cell_type": "markdown",
   "metadata": {},
   "source": [
    "There are also utilities for pulling out information about summaries:"
   ]
  },
  {
   "cell_type": "code",
   "execution_count": null,
   "metadata": {},
   "outputs": [],
   "source": [
    "summary_columns = relay.analysis_tools.get_summary_columns(summary_results)\n",
    "summary_columns"
   ]
  },
  {
   "cell_type": "markdown",
   "metadata": {},
   "source": [
    "We can generate summaries for two networks, and display the results in a summary table:"
   ]
  },
  {
   "cell_type": "code",
   "execution_count": null,
   "metadata": {},
   "outputs": [],
   "source": [
    "from tvm.relay.testing.resnet import get_workload\n",
    "\n",
    "module, params = get_workload()\n",
    "\n",
    "mobilenet_summary = summary_results\n",
    "\n",
    "analyses = [GetReadableName(), GetIndex(), SummarizeOpTypes()]\n",
    "_, resnet_summary = relay.analysis_tools.run_analyses(module['main'], analyses)\n",
    "resnet_columns = relay.analysis_tools.get_summary_columns(resnet_summary)\n",
    "\n",
    "summary_columns.update(resnet_columns)\n",
    "summary_columns"
   ]
  },
  {
   "cell_type": "code",
   "execution_count": null,
   "metadata": {},
   "outputs": [],
   "source": [
    "mobilenet_record = relay.analysis_tools.summary_to_record(summary_columns, mobilenet_summary)\n",
    "resnet_record = relay.analysis_tools.summary_to_record(summary_columns, resnet_summary)\n",
    "\n",
    "pd.DataFrame.from_records([mobilenet_record, resnet_record], columns = summary_columns).fillna(0).astype('int')"
   ]
  },
  {
   "cell_type": "markdown",
   "metadata": {},
   "source": [
    "# Dynamic Analysis\n",
    "\n",
    "I also experimented with adding simple dynamic analyses in Relay this summer. These analyses were effectively just counters inserted into the program to count program events. "
   ]
  },
  {
   "cell_type": "code",
   "execution_count": null,
   "metadata": {},
   "outputs": [],
   "source": [
    "class InstrumentProgramWithReference(relay.ExprMutator):\n",
    "    def __init__(self):\n",
    "        super().__init__()\n",
    "        self.reference = relay.RefCreate(relay.const(0))\n",
    "        \n",
    "    def visit_call(self, call):\n",
    "        call = super().visit_call(call)\n",
    "        if call.op.name != \"nn.relu\": return call\n",
    "        call = relay.Let(relay.var('unused'), \n",
    "                         relay.RefWrite(self.reference,\n",
    "                                        relay.RefRead(self.reference) + relay.const(1)),\n",
    "                         call)\n",
    "        return call\n",
    "    \n",
    "def instrument_program(function : relay.Function):\n",
    "    instrumentation_pass = InstrumentProgramWithReference()\n",
    "    function = instrumentation_pass.visit(function)\n",
    "    return relay.Function(params=function.params,\n",
    "                          body=relay.Tuple([function.body, relay.RefRead(instrumentation_pass.reference)]),\n",
    "                          ret_type=None, # TODO\n",
    "                          type_params=function.type_params,\n",
    "                          attrs=function.attrs)"
   ]
  },
  {
   "cell_type": "code",
   "execution_count": null,
   "metadata": {},
   "outputs": [],
   "source": [
    "resnet_mod, resnet_params = get_workload()\n",
    "resnet = resnet_mod['main']\n",
    "\n",
    "resnet_instrumented = instrument_program(resnet)\n",
    "resnet_instrumented = relay.transform.InferType()(relay.Module.from_expr(resnet_instrumented))['main']\n",
    "print(resnet_instrumented)"
   ]
  },
  {
   "cell_type": "code",
   "execution_count": null,
   "metadata": {},
   "outputs": [],
   "source": [
    "import numpy as np\n",
    "input = np.random.rand(1,3,224,224).astype('float32')\n",
    "\n",
    "ex = relay.create_executor()\n",
    "ex.evaluate(resnet_instrumented)(input, **resnet_params)"
   ]
  },
  {
   "cell_type": "code",
   "execution_count": null,
   "metadata": {},
   "outputs": [],
   "source": [
    "class InstrumentProgramFunctionally(relay.ExprMutator):\n",
    "    def visit_function(self, fn):\n",
    "        new_params = [self.visit(x) for x in fn.params]\n",
    "        new_body = self.visit(fn.body)\n",
    "        return relay.Function(\n",
    "            list(new_params),\n",
    "            new_body,\n",
    "            # the return type will change.\n",
    "            # also commenting out the other stuff.\n",
    "            #fn.ret_type,\n",
    "            #fn.type_params,\n",
    "            #fn.attrs\n",
    "            )\n",
    "    \n",
    "    \"\"\"def visit_let(self, let):\n",
    "        new_var = self.visit(let.var)\n",
    "        new_val = self.visit(let.value)\n",
    "        new_body = self.visit(let.body)\n",
    "        return Let(new_var, new_val, new_body)\"\"\"\n",
    "\n",
    "    def visit_call(self, call):\n",
    "        \"\"\"\n",
    "        \n",
    "        How does this work?\n",
    "        We have to return the call as first item of the tuple.\n",
    "        The args will change and become tuples. We'll need to pull\n",
    "        the args out of the tuples that they become.\"\"\"\n",
    "        # TODO(gus) how might op change?\n",
    "        new_fn = self.visit(call.op)\n",
    "        # This makes them tuples\n",
    "        new_args = [self.visit(arg) for arg in call.args]\n",
    "        # Reduce the counters\n",
    "        new_counter = sum([relay.TupleGetItem(arg, 1) for arg in new_args], relay.const(0, dtype='int32'))\n",
    "        # Get the first value\n",
    "        new_args = [relay.TupleGetItem(arg, 0) for arg in new_args]\n",
    "        new_call = relay.Call(new_fn, new_args, call.attrs)\n",
    "        return relay.Tuple([new_call, new_counter])\n",
    "\n",
    "    # TODO(gus) does var need to change? i don't think it does. I don't\n",
    "    # think it makes sense.\n",
    "    def visit_var(self, var):\n",
    "        \"\"\"Return a var with the appropriate tuple type.\"\"\"\n",
    "        tuple_type = relay.TupleType([var.checked_type, relay.TensorType(tuple(), dtype='int32')])\n",
    "        return relay.var(var.name_hint, type_annotation=tuple_type)\n",
    "\n",
    "    \"\"\"def visit_global_id(self, global_var):\n",
    "        # TODO(gus) how is this different from a global var?\n",
    "        return global_var\"\"\"\n",
    "\n",
    "    \"\"\"def visit_if(self, ite):\n",
    "        # TODO(gus) doesn't change?\n",
    "        return If(\n",
    "            self.visit(ite.cond),\n",
    "            self.visit(ite.true_branch),\n",
    "            self.visit(ite.false_branch))\"\"\"\n",
    "\n",
    "    \"\"\"\n",
    "    # TODO(gus) these are wrong, pretty sure.\n",
    "    def visit_tuple(self, tup):\n",
    "        return relay.Tuple([relay.Tuple([self.visit(field) for field in tup.fields]), relay.const(0)])\n",
    "\n",
    "    def visit_tuple_getitem(self, op):\n",
    "        tuple_value = self.visit(op.tuple_value)\n",
    "        return relay.TupleGetItem(relay.TupleGetItem(tuple_value, 0), op.index)\"\"\"\n",
    "\n",
    "    # TODO(gus) also this var\n",
    "    \"\"\"def visit_global_var(self, gvar):\n",
    "        return relay.Tuple([gvar, relay.const(1)])\"\"\"\n",
    "\n",
    "    \"\"\"def visit_op(self, op):\n",
    "        return op\"\"\"\n",
    "\n",
    "    def visit_constant(self, const):\n",
    "        return relay.Tuple([const, relay.const(0, dtype='int32')])\n",
    "\n",
    "    \"\"\"def visit_constructor(self, con):\n",
    "        return con\"\"\"\n",
    "\n",
    "    def visit_match(self, m):\n",
    "        return Match(\n",
    "            # TODO(gus) do we need to get the item here? I think we do.\n",
    "            relay.TupleGetItem(self.visit(m.data), 0),\n",
    "            [Clause(c.lhs, self.visit(c.rhs)) for c in m.clauses],\n",
    "            complete=m.complete)\n",
    "\n",
    "    def visit_ref_create(self, r):\n",
    "        raise NotImplementedError()\n",
    "        return RefCreate(self.visit(r.value))\n",
    "\n",
    "    def visit_ref_write(self, r):\n",
    "        raise NotImplementedError()\n",
    "        return RefWrite(self.visit(r.ref), self.visit(r.value))\n",
    "\n",
    "    def visit_ref_read(self, r):\n",
    "        raise NotImplementedError()\n",
    "        return RefRead(self.visit(r.ref))\n"
   ]
  },
  {
   "cell_type": "code",
   "execution_count": null,
   "metadata": {},
   "outputs": [],
   "source": [
    "resnet_instrumented = InstrumentProgramFunctionally().visit(resnet)\n",
    "print(resnet)\n",
    "print(resnet_instrumented)"
   ]
  },
  {
   "cell_type": "code",
   "execution_count": null,
   "metadata": {},
   "outputs": [],
   "source": [
    "class CountReLUFunctionally(InstrumentProgramFunctionally):\n",
    "    def visit_call(self, call):\n",
    "        op = call.op.name\n",
    "        call = super().visit_call(call)\n",
    "        if op != 'nn.relu':\n",
    "            return call\n",
    "        else:\n",
    "            return relay.Tuple([relay.TupleGetItem(call, 0),\n",
    "                                # increment counter\n",
    "                                relay.TupleGetItem(call, 1) + relay.const(1, dtype='int32')])"
   ]
  },
  {
   "cell_type": "code",
   "execution_count": null,
   "metadata": {},
   "outputs": [],
   "source": [
    "resnet_instrumented = relay.transform.SimplifyInference()(relay.Module.from_expr(resnet))['main']\n",
    "print(resnet_instrumented)"
   ]
  },
  {
   "cell_type": "code",
   "execution_count": null,
   "metadata": {},
   "outputs": [],
   "source": [
    "resnet_instrumented = relay.transform.SimplifyInference()(relay.Module.from_expr(resnet))['main']\n",
    "resnet_instrumented = CountReLUFunctionally().visit(resnet_instrumented)\n",
    "#resnet_instrumented = relay.transform.InferType()(relay.Module.from_expr(resnet_instrumented))['main']\n",
    "#resnet_instrumented = relay.transform.PartialEvaluate()(relay.Module.from_expr(resnet_instrumented))['main']\n",
    "print(resnet_instrumented)"
   ]
  }
 ],
 "metadata": {
  "kernelspec": {
   "display_name": "Python 3",
   "language": "python",
   "name": "python3"
  },
  "language_info": {
   "codemirror_mode": {
    "name": "ipython",
    "version": 3
   },
   "file_extension": ".py",
   "mimetype": "text/x-python",
   "name": "python",
   "nbconvert_exporter": "python",
   "pygments_lexer": "ipython3",
   "version": "3.7.4"
  }
 },
 "nbformat": 4,
 "nbformat_minor": 2
}
