{
 "cells": [
  {
   "cell_type": "code",
   "execution_count": null,
   "metadata": {},
   "outputs": [],
   "source": [
    "import tvm\n",
    "from tvm import relay\n",
    "import tvm.relay.analysis_tools"
   ]
  },
  {
   "cell_type": "code",
   "execution_count": null,
   "metadata": {},
   "outputs": [],
   "source": [
    "program = relay.const(1) - (relay.var('x') * relay.var('y'))"
   ]
  },
  {
   "cell_type": "code",
   "execution_count": null,
   "metadata": {},
   "outputs": [],
   "source": [
    "class GetReadableName(relay.analysis_tools.AnalysisPass):\n",
    "    def visit_call(self, call):\n",
    "        super().visit_call(call)\n",
    "        self._add_detail(call, readable_name=call.op.name)"
   ]
  },
  {
   "cell_type": "code",
   "execution_count": null,
   "metadata": {},
   "outputs": [],
   "source": [
    "class GetIndex(relay.analysis_tools.AnalysisPass):\n",
    "    def __init__(self):\n",
    "        super().__init__()\n",
    "        self.__id = 0\n",
    "\n",
    "    def visit_call(self, call):\n",
    "        super().visit_call(call)\n",
    "        self._add_detail(call, id=self.__id)\n",
    "        self.__id += 1"
   ]
  },
  {
   "cell_type": "code",
   "execution_count": null,
   "metadata": {},
   "outputs": [],
   "source": [
    "analyses = [GetReadableName(), GetIndex()]\n",
    "analysis_results, summary_results = relay.analysis_tools.run_analyses(program, analyses)"
   ]
  },
  {
   "cell_type": "code",
   "execution_count": null,
   "metadata": {},
   "outputs": [],
   "source": [
    "analysis_columns = relay.analysis_tools.get_analysis_columns(analysis_results)\n",
    "analysis_columns"
   ]
  },
  {
   "cell_type": "code",
   "execution_count": null,
   "metadata": {},
   "outputs": [],
   "source": [
    "records = relay.analysis_tools.get_records(analysis_results, analysis_columns)\n",
    "records"
   ]
  },
  {
   "cell_type": "code",
   "execution_count": null,
   "metadata": {},
   "outputs": [],
   "source": [
    "import pandas as pd\n",
    "pd.DataFrame.from_records(records, columns=['id', 'op'], index='id')"
   ]
  },
  {
   "cell_type": "code",
   "execution_count": null,
   "metadata": {},
   "outputs": [],
   "source": [
    "from tvm.relay.testing.mobilenet import get_workload\n",
    "\n",
    "module, params = get_workload()\n",
    "\n",
    "analyses = [GetReadableName(), GetIndex()]\n",
    "analysis_results, summary_results = relay.analysis_tools.run_analyses(module['main'], analyses)\n",
    "records = relay.analysis_tools.get_records(analysis_results, analysis_columns)\n",
    "pd.DataFrame.from_records(records, columns=['id', 'op'], index='id')"
   ]
  },
  {
   "cell_type": "code",
   "execution_count": null,
   "metadata": {},
   "outputs": [],
   "source": [
    "class SummarizeOpTypes(relay.analysis_tools.AnalysisPass):\n",
    "    def _summarize(self):\n",
    "        histogram = {}\n",
    "        for node, data in self._existing_data.items():\n",
    "            if data['readable_name'] not in histogram:\n",
    "                histogram[data['readable_name']] = 1\n",
    "            else:\n",
    "                histogram[data['readable_name']] += 1\n",
    "        self._add_summary(histogram)"
   ]
  },
  {
   "cell_type": "code",
   "execution_count": null,
   "metadata": {},
   "outputs": [],
   "source": [
    "analyses = [GetReadableName(), GetIndex(), SummarizeOpTypes()]\n",
    "analysis_results, summary_results = relay.analysis_tools.run_analyses(module['main'], analyses)\n",
    "summary_results"
   ]
  },
  {
   "cell_type": "code",
   "execution_count": null,
   "metadata": {},
   "outputs": [],
   "source": [
    "summary_columns = relay.analysis_tools.get_summary_columns(summary_results)\n",
    "summary_columns"
   ]
  },
  {
   "cell_type": "code",
   "execution_count": null,
   "metadata": {},
   "outputs": [],
   "source": [
    "from tvm.relay.testing.resnet import get_workload\n",
    "\n",
    "module, params = get_workload()\n",
    "\n",
    "mobilenet_summary = summary_results\n",
    "\n",
    "analyses = [GetReadableName(), GetIndex(), SummarizeOpTypes()]\n",
    "_, resnet_summary = relay.analysis_tools.run_analyses(module['main'], analyses)\n",
    "resnet_columns = relay.analysis_tools.get_summary_columns(resnet_summary)\n",
    "\n",
    "summary_columns.update(resnet_columns)\n",
    "summary_columns"
   ]
  },
  {
   "cell_type": "code",
   "execution_count": null,
   "metadata": {},
   "outputs": [],
   "source": [
    "mobilenet_record = relay.analysis_tools.summary_to_record(summary_columns, mobilenet_summary)\n",
    "resnet_record = relay.analysis_tools.summary_to_record(summary_columns, resnet_summary)\n",
    "\n",
    "pd.DataFrame.from_records([mobilenet_record, resnet_record], columns = summary_columns).fillna(0).astype('int')"
   ]
  }
 ],
 "metadata": {
  "kernelspec": {
   "display_name": "Python 3",
   "language": "python",
   "name": "python3"
  },
  "language_info": {
   "codemirror_mode": {
    "name": "ipython",
    "version": 3
   },
   "file_extension": ".py",
   "mimetype": "text/x-python",
   "name": "python",
   "nbconvert_exporter": "python",
   "pygments_lexer": "ipython3",
   "version": "3.7.4"
  }
 },
 "nbformat": 4,
 "nbformat_minor": 2
}
