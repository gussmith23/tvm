{
 "cells": [
  {
   "cell_type": "code",
   "execution_count": null,
   "metadata": {},
   "outputs": [],
   "source": [
    "import tvm\n",
    "from tvm import relay\n",
    "import tvm.relay.analysis_tools"
   ]
  },
  {
   "cell_type": "markdown",
   "metadata": {},
   "source": [
    "We'll start by examining a simple Relay program:"
   ]
  },
  {
   "cell_type": "code",
   "execution_count": null,
   "metadata": {},
   "outputs": [],
   "source": [
    "program = relay.const(1) - (relay.var('x') * relay.var('y'))"
   ]
  },
  {
   "cell_type": "markdown",
   "metadata": {},
   "source": [
    "This simple analysis pass visits all `Call`s. It uses the `AnalysisPass` helper method `_add_detail` to attach analysis results to an expression. In this case, it attaches an analysis result named `'readable_name'` to the `Call` being visited. `_add_detail` is one of the main conveniences added by this simple analysis framework."
   ]
  },
  {
   "cell_type": "code",
   "execution_count": null,
   "metadata": {},
   "outputs": [],
   "source": [
    "class GetReadableName(relay.analysis_tools.AnalysisPass):\n",
    "    def visit_call(self, call):\n",
    "        super().visit_call(call)\n",
    "        self._add_detail(call, readable_name=call.op.name)"
   ]
  },
  {
   "cell_type": "markdown",
   "metadata": {},
   "source": [
    "We can build another simple `AnalysisPass` to give all of our nodes unique ids:"
   ]
  },
  {
   "cell_type": "code",
   "execution_count": null,
   "metadata": {},
   "outputs": [],
   "source": [
    "class GetIndex(relay.analysis_tools.AnalysisPass):\n",
    "    def __init__(self):\n",
    "        super().__init__()\n",
    "        self.__id = 0\n",
    "\n",
    "    def visit_call(self, call):\n",
    "        super().visit_call(call)\n",
    "        self._add_detail(call, id=self.__id)\n",
    "        self.__id += 1"
   ]
  },
  {
   "cell_type": "markdown",
   "metadata": {},
   "source": [
    "Next, we use the `run_analyses` helper method to run a batch of analyses on our program."
   ]
  },
  {
   "cell_type": "code",
   "execution_count": null,
   "metadata": {},
   "outputs": [],
   "source": [
    "analyses = [GetReadableName(), GetIndex()]\n",
    "analysis_results, summary_results = relay.analysis_tools.run_analyses(program, analyses)\n",
    "analysis_results"
   ]
  },
  {
   "cell_type": "markdown",
   "metadata": {},
   "source": [
    "As we can see, the analysis results are in a bit of a raw form. The rest of the interesting functions in the analysis framework mostly pertain to helping wrangle the output into a useful form.\n",
    "\n",
    "For example, we can get the columns from the output, and then once we have the columns, we can turn the data into record format:"
   ]
  },
  {
   "cell_type": "code",
   "execution_count": null,
   "metadata": {},
   "outputs": [],
   "source": [
    "analysis_columns = relay.analysis_tools.get_analysis_columns(analysis_results)\n",
    "analysis_columns"
   ]
  },
  {
   "cell_type": "code",
   "execution_count": null,
   "metadata": {},
   "outputs": [],
   "source": [
    "records = relay.analysis_tools.get_records(analysis_results, analysis_columns)\n",
    "records"
   ]
  },
  {
   "cell_type": "markdown",
   "metadata": {},
   "source": [
    "Record format helps us put the data into pandas:"
   ]
  },
  {
   "cell_type": "code",
   "execution_count": null,
   "metadata": {},
   "outputs": [],
   "source": [
    "import pandas as pd\n",
    "pd.DataFrame.from_records(records, columns=['id', 'op'], index='id')"
   ]
  },
  {
   "cell_type": "markdown",
   "metadata": {},
   "source": [
    "Now, let's see what it looks like with a bigger program, like Mobilenet:"
   ]
  },
  {
   "cell_type": "code",
   "execution_count": null,
   "metadata": {},
   "outputs": [],
   "source": [
    "from tvm.relay.testing.mobilenet import get_workload\n",
    "\n",
    "module, params = get_workload()\n",
    "\n",
    "analyses = [GetReadableName(), GetIndex()]\n",
    "analysis_results, summary_results = relay.analysis_tools.run_analyses(module['main'], analyses)\n",
    "records = relay.analysis_tools.get_records(analysis_results, analysis_columns)\n",
    "pd.DataFrame.from_records(records, columns=['id', 'op'], index='id')"
   ]
  },
  {
   "cell_type": "markdown",
   "metadata": {},
   "source": [
    "## Building Analysis Summaries\n",
    "\n",
    "The last feature of the analysis framework is the ability to build _summaries_, which are simply useful ways to add analysis results which are not tied to an expression within the program, but to the program as a whole.\n",
    "\n",
    "We can make a summary by overriding `_summarize`. This method runs once the `AnalysisPass` finishes visiting all expressions in a program. `_summarize` can access the `_existing_data` field to access previously-generated data. Using this data, it can then generate summary info and attach it to the program using `_add_summary`.\n",
    "\n",
    "Here, we show a summary pass which generates a histogram of call types:"
   ]
  },
  {
   "cell_type": "code",
   "execution_count": null,
   "metadata": {},
   "outputs": [],
   "source": [
    "class SummarizeOpTypes(relay.analysis_tools.AnalysisPass):\n",
    "    def _summarize(self):\n",
    "        histogram = {}\n",
    "        for node, data in self._existing_data.items():\n",
    "            if data['readable_name'] not in histogram:\n",
    "                histogram[data['readable_name']] = 1\n",
    "            else:\n",
    "                histogram[data['readable_name']] += 1\n",
    "        self._add_summary(histogram)"
   ]
  },
  {
   "cell_type": "markdown",
   "metadata": {},
   "source": [
    "We generate summaries with `run_analyses` as well: "
   ]
  },
  {
   "cell_type": "code",
   "execution_count": null,
   "metadata": {},
   "outputs": [],
   "source": [
    "analyses = [GetReadableName(), GetIndex(), SummarizeOpTypes()]\n",
    "analysis_results, summary_results = relay.analysis_tools.run_analyses(module['main'], analyses)\n",
    "summary_results"
   ]
  },
  {
   "cell_type": "markdown",
   "metadata": {},
   "source": [
    "There are also utilities for pulling out information about summaries:"
   ]
  },
  {
   "cell_type": "code",
   "execution_count": null,
   "metadata": {},
   "outputs": [],
   "source": [
    "summary_columns = relay.analysis_tools.get_summary_columns(summary_results)\n",
    "summary_columns"
   ]
  },
  {
   "cell_type": "markdown",
   "metadata": {},
   "source": [
    "We can generate summaries for two networks, and display the results in a summary table:"
   ]
  },
  {
   "cell_type": "code",
   "execution_count": null,
   "metadata": {},
   "outputs": [],
   "source": [
    "from tvm.relay.testing.resnet import get_workload\n",
    "\n",
    "module, params = get_workload()\n",
    "\n",
    "mobilenet_summary = summary_results\n",
    "\n",
    "analyses = [GetReadableName(), GetIndex(), SummarizeOpTypes()]\n",
    "_, resnet_summary = relay.analysis_tools.run_analyses(module['main'], analyses)\n",
    "resnet_columns = relay.analysis_tools.get_summary_columns(resnet_summary)\n",
    "\n",
    "summary_columns.update(resnet_columns)\n",
    "summary_columns"
   ]
  },
  {
   "cell_type": "code",
   "execution_count": null,
   "metadata": {},
   "outputs": [],
   "source": [
    "mobilenet_record = relay.analysis_tools.summary_to_record(summary_columns, mobilenet_summary)\n",
    "resnet_record = relay.analysis_tools.summary_to_record(summary_columns, resnet_summary)\n",
    "\n",
    "pd.DataFrame.from_records([mobilenet_record, resnet_record], columns = summary_columns).fillna(0).astype('int')"
   ]
  }
 ],
 "metadata": {
  "kernelspec": {
   "display_name": "Python 3",
   "language": "python",
   "name": "python3"
  },
  "language_info": {
   "codemirror_mode": {
    "name": "ipython",
    "version": 3
   },
   "file_extension": ".py",
   "mimetype": "text/x-python",
   "name": "python",
   "nbconvert_exporter": "python",
   "pygments_lexer": "ipython3",
   "version": "3.7.4"
  }
 },
 "nbformat": 4,
 "nbformat_minor": 2
}
